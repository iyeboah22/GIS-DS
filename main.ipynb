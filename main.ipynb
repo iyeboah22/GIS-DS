{
 "cells": [
  {
   "cell_type": "code",
   "execution_count": 12,
   "metadata": {},
   "outputs": [
    {
     "name": "stdout",
     "output_type": "stream",
     "text": [
      "<class 'pandas.core.frame.DataFrame'>\n",
      "RangeIndex: 108553 entries, 0 to 108552\n",
      "Data columns (total 10 columns):\n",
      " #   Column                     Non-Null Count   Dtype  \n",
      "---  ------                     --------------   -----  \n",
      " 0   Entity                     108553 non-null  object \n",
      " 1   Code                       103141 non-null  object \n",
      " 2   Year                       108553 non-null  object \n",
      " 3   Schizophrenia (%)          25875 non-null   object \n",
      " 4   Bipolar disorder (%)       19406 non-null   object \n",
      " 5   Eating disorders (%)       100236 non-null  object \n",
      " 6   Anxiety disorders (%)      6468 non-null    float64\n",
      " 7   Drug use disorders (%)     6468 non-null    float64\n",
      " 8   Depression (%)             6468 non-null    float64\n",
      " 9   Alcohol use disorders (%)  6468 non-null    float64\n",
      "dtypes: float64(4), object(6)\n",
      "memory usage: 8.3+ MB\n"
     ]
    },
    {
     "name": "stderr",
     "output_type": "stream",
     "text": [
      "/var/folders/qg/d9jygk1d6dv3c6s4t5ymzpgr0000gn/T/ipykernel_41291/533898786.py:10: DtypeWarning: Columns (5,6) have mixed types. Specify dtype option on import or set low_memory=False.\n",
      "  geo_mh = pd.read_csv('/Users/yeboahi/Desktop/MSDS/GIS Data/import_data/Mental health Depression disorder Data.csv')\n"
     ]
    }
   ],
   "source": [
    "#import libraries\n",
    "import os\n",
    "#Importing necessary libraries\n",
    "import matplotlib.pyplot as plt\n",
    "import numpy as np\n",
    "import pandas as pd\n",
    "import seaborn as sns\n",
    "%matplotlib inline\n",
    "\n",
    "geo_mh = pd.read_csv('/Users/yeboahi/Desktop/MSDS/GIS Data/import_data/Mental health Depression disorder Data.csv')\n",
    "\n",
    "# df = pd.DataFrame(df, columns=df.columns)\n",
    "geo_mh = geo_mh.drop(\"index\",axis=1)\n",
    "geo_mh.info()"
   ]
  },
  {
   "cell_type": "code",
   "execution_count": 11,
   "metadata": {},
   "outputs": [
    {
     "data": {
      "text/html": [
       "<div>\n",
       "<style scoped>\n",
       "    .dataframe tbody tr th:only-of-type {\n",
       "        vertical-align: middle;\n",
       "    }\n",
       "\n",
       "    .dataframe tbody tr th {\n",
       "        vertical-align: top;\n",
       "    }\n",
       "\n",
       "    .dataframe thead th {\n",
       "        text-align: right;\n",
       "    }\n",
       "</style>\n",
       "<table border=\"1\" class=\"dataframe\">\n",
       "  <thead>\n",
       "    <tr style=\"text-align: right;\">\n",
       "      <th></th>\n",
       "      <th>country</th>\n",
       "      <th>latitude</th>\n",
       "      <th>longitude</th>\n",
       "      <th>name</th>\n",
       "    </tr>\n",
       "  </thead>\n",
       "  <tbody>\n",
       "    <tr>\n",
       "      <th>0</th>\n",
       "      <td>AD</td>\n",
       "      <td>42.546245</td>\n",
       "      <td>1.601554</td>\n",
       "      <td>Andorra</td>\n",
       "    </tr>\n",
       "    <tr>\n",
       "      <th>1</th>\n",
       "      <td>AE</td>\n",
       "      <td>23.424076</td>\n",
       "      <td>53.847818</td>\n",
       "      <td>United Arab Emirates</td>\n",
       "    </tr>\n",
       "    <tr>\n",
       "      <th>2</th>\n",
       "      <td>AF</td>\n",
       "      <td>33.939110</td>\n",
       "      <td>67.709953</td>\n",
       "      <td>Afghanistan</td>\n",
       "    </tr>\n",
       "    <tr>\n",
       "      <th>3</th>\n",
       "      <td>AG</td>\n",
       "      <td>17.060816</td>\n",
       "      <td>-61.796428</td>\n",
       "      <td>Antigua and Barbuda</td>\n",
       "    </tr>\n",
       "    <tr>\n",
       "      <th>4</th>\n",
       "      <td>AI</td>\n",
       "      <td>18.220554</td>\n",
       "      <td>-63.068615</td>\n",
       "      <td>Anguilla</td>\n",
       "    </tr>\n",
       "    <tr>\n",
       "      <th>...</th>\n",
       "      <td>...</td>\n",
       "      <td>...</td>\n",
       "      <td>...</td>\n",
       "      <td>...</td>\n",
       "    </tr>\n",
       "    <tr>\n",
       "      <th>240</th>\n",
       "      <td>YE</td>\n",
       "      <td>15.552727</td>\n",
       "      <td>48.516388</td>\n",
       "      <td>Yemen</td>\n",
       "    </tr>\n",
       "    <tr>\n",
       "      <th>241</th>\n",
       "      <td>YT</td>\n",
       "      <td>-12.827500</td>\n",
       "      <td>45.166244</td>\n",
       "      <td>Mayotte</td>\n",
       "    </tr>\n",
       "    <tr>\n",
       "      <th>242</th>\n",
       "      <td>ZA</td>\n",
       "      <td>-30.559482</td>\n",
       "      <td>22.937506</td>\n",
       "      <td>South Africa</td>\n",
       "    </tr>\n",
       "    <tr>\n",
       "      <th>243</th>\n",
       "      <td>ZM</td>\n",
       "      <td>-13.133897</td>\n",
       "      <td>27.849332</td>\n",
       "      <td>Zambia</td>\n",
       "    </tr>\n",
       "    <tr>\n",
       "      <th>244</th>\n",
       "      <td>ZW</td>\n",
       "      <td>-19.015438</td>\n",
       "      <td>29.154857</td>\n",
       "      <td>Zimbabwe</td>\n",
       "    </tr>\n",
       "  </tbody>\n",
       "</table>\n",
       "<p>245 rows × 4 columns</p>\n",
       "</div>"
      ],
      "text/plain": [
       "    country   latitude  longitude                  name\n",
       "0        AD  42.546245   1.601554               Andorra\n",
       "1        AE  23.424076  53.847818  United Arab Emirates\n",
       "2        AF  33.939110  67.709953           Afghanistan\n",
       "3        AG  17.060816 -61.796428   Antigua and Barbuda\n",
       "4        AI  18.220554 -63.068615              Anguilla\n",
       "..      ...        ...        ...                   ...\n",
       "240      YE  15.552727  48.516388                 Yemen\n",
       "241      YT -12.827500  45.166244               Mayotte\n",
       "242      ZA -30.559482  22.937506          South Africa\n",
       "243      ZM -13.133897  27.849332                Zambia\n",
       "244      ZW -19.015438  29.154857              Zimbabwe\n",
       "\n",
       "[245 rows x 4 columns]"
      ]
     },
     "execution_count": 11,
     "metadata": {},
     "output_type": "execute_result"
    }
   ],
   "source": [
    "#Check the head and tail of the dataframe:\n",
    "coord"
   ]
  },
  {
   "cell_type": "code",
   "execution_count": 14,
   "metadata": {},
   "outputs": [
    {
     "data": {
      "text/plain": [
       "Entity                       Zimbabwe\n",
       "Code                              ZWE\n",
       "Year                             2017\n",
       "Schizophrenia (%)            0.157963\n",
       "Bipolar disorder (%)         0.611242\n",
       "Eating disorders (%)         0.124443\n",
       "Anxiety disorders (%)        3.110926\n",
       "Drug use disorders (%)       0.772648\n",
       "Depression (%)               3.192789\n",
       "Alcohol use disorders (%)    1.510943\n",
       "Name: 6467, dtype: object"
      ]
     },
     "execution_count": 14,
     "metadata": {},
     "output_type": "execute_result"
    }
   ],
   "source": [
    "#Check what is happening at what appears to be the end of the numerical data stream in columns 6-9\n",
    "geo_mh.iloc[6467]"
   ]
  },
  {
   "cell_type": "code",
   "execution_count": 15,
   "metadata": {},
   "outputs": [
    {
     "data": {
      "text/html": [
       "<div>\n",
       "<style scoped>\n",
       "    .dataframe tbody tr th:only-of-type {\n",
       "        vertical-align: middle;\n",
       "    }\n",
       "\n",
       "    .dataframe tbody tr th {\n",
       "        vertical-align: top;\n",
       "    }\n",
       "\n",
       "    .dataframe thead th {\n",
       "        text-align: right;\n",
       "    }\n",
       "</style>\n",
       "<table border=\"1\" class=\"dataframe\">\n",
       "  <thead>\n",
       "    <tr style=\"text-align: right;\">\n",
       "      <th></th>\n",
       "      <th>country</th>\n",
       "      <th>Code</th>\n",
       "      <th>year</th>\n",
       "      <th>schizo</th>\n",
       "      <th>bipolar</th>\n",
       "      <th>eds</th>\n",
       "      <th>anxiety</th>\n",
       "      <th>drug</th>\n",
       "      <th>depres</th>\n",
       "      <th>alcohol</th>\n",
       "    </tr>\n",
       "  </thead>\n",
       "  <tbody>\n",
       "    <tr>\n",
       "      <th>0</th>\n",
       "      <td>Afghanistan</td>\n",
       "      <td>AFG</td>\n",
       "      <td>1990</td>\n",
       "      <td>0.16056</td>\n",
       "      <td>0.697779</td>\n",
       "      <td>0.101855</td>\n",
       "      <td>4.828830</td>\n",
       "      <td>1.677082</td>\n",
       "      <td>4.071831</td>\n",
       "      <td>0.672404</td>\n",
       "    </tr>\n",
       "    <tr>\n",
       "      <th>1</th>\n",
       "      <td>Afghanistan</td>\n",
       "      <td>AFG</td>\n",
       "      <td>1991</td>\n",
       "      <td>0.160312</td>\n",
       "      <td>0.697961</td>\n",
       "      <td>0.099313</td>\n",
       "      <td>4.829740</td>\n",
       "      <td>1.684746</td>\n",
       "      <td>4.079531</td>\n",
       "      <td>0.671768</td>\n",
       "    </tr>\n",
       "    <tr>\n",
       "      <th>2</th>\n",
       "      <td>Afghanistan</td>\n",
       "      <td>AFG</td>\n",
       "      <td>1992</td>\n",
       "      <td>0.160135</td>\n",
       "      <td>0.698107</td>\n",
       "      <td>0.096692</td>\n",
       "      <td>4.831108</td>\n",
       "      <td>1.694334</td>\n",
       "      <td>4.088358</td>\n",
       "      <td>0.670644</td>\n",
       "    </tr>\n",
       "    <tr>\n",
       "      <th>3</th>\n",
       "      <td>Afghanistan</td>\n",
       "      <td>AFG</td>\n",
       "      <td>1993</td>\n",
       "      <td>0.160037</td>\n",
       "      <td>0.698257</td>\n",
       "      <td>0.094336</td>\n",
       "      <td>4.830864</td>\n",
       "      <td>1.705320</td>\n",
       "      <td>4.096190</td>\n",
       "      <td>0.669738</td>\n",
       "    </tr>\n",
       "    <tr>\n",
       "      <th>4</th>\n",
       "      <td>Afghanistan</td>\n",
       "      <td>AFG</td>\n",
       "      <td>1994</td>\n",
       "      <td>0.160022</td>\n",
       "      <td>0.698469</td>\n",
       "      <td>0.092439</td>\n",
       "      <td>4.829423</td>\n",
       "      <td>1.716069</td>\n",
       "      <td>4.099582</td>\n",
       "      <td>0.669260</td>\n",
       "    </tr>\n",
       "  </tbody>\n",
       "</table>\n",
       "</div>"
      ],
      "text/plain": [
       "       country Code  year    schizo   bipolar       eds   anxiety      drug  \\\n",
       "0  Afghanistan  AFG  1990   0.16056  0.697779  0.101855  4.828830  1.677082   \n",
       "1  Afghanistan  AFG  1991  0.160312  0.697961  0.099313  4.829740  1.684746   \n",
       "2  Afghanistan  AFG  1992  0.160135  0.698107  0.096692  4.831108  1.694334   \n",
       "3  Afghanistan  AFG  1993  0.160037  0.698257  0.094336  4.830864  1.705320   \n",
       "4  Afghanistan  AFG  1994  0.160022  0.698469  0.092439  4.829423  1.716069   \n",
       "\n",
       "     depres   alcohol  \n",
       "0  4.071831  0.672404  \n",
       "1  4.079531  0.671768  \n",
       "2  4.088358  0.670644  \n",
       "3  4.096190  0.669738  \n",
       "4  4.099582  0.669260  "
      ]
     },
     "execution_count": 15,
     "metadata": {},
     "output_type": "execute_result"
    }
   ],
   "source": [
    "#let's rename the columns to something shorter\n",
    "map_names = {'Entity': 'country',\n",
    "             'Year' : 'year',\n",
    "             'Schizophrenia (%)':'schizo', \n",
    "             'Bipolar disorder (%)':'bipolar',\n",
    "             'Eating disorders (%)' : 'eds',\n",
    "             'Anxiety disorders (%)' : 'anxiety',\n",
    "             'Drug use disorders (%)':'drug',\n",
    "             'Depression (%)':'depres',\n",
    "             'Alcohol use disorders (%)':'alcohol'}\n",
    "\n",
    "geo_mh.rename(columns=map_names,inplace=True)\n",
    "geo_mh.head()"
   ]
  },
  {
   "cell_type": "code",
   "execution_count": 16,
   "metadata": {},
   "outputs": [
    {
     "data": {
      "text/html": [
       "<div>\n",
       "<style scoped>\n",
       "    .dataframe tbody tr th:only-of-type {\n",
       "        vertical-align: middle;\n",
       "    }\n",
       "\n",
       "    .dataframe tbody tr th {\n",
       "        vertical-align: top;\n",
       "    }\n",
       "\n",
       "    .dataframe thead th {\n",
       "        text-align: right;\n",
       "    }\n",
       "</style>\n",
       "<table border=\"1\" class=\"dataframe\">\n",
       "  <thead>\n",
       "    <tr style=\"text-align: right;\">\n",
       "      <th></th>\n",
       "      <th>country</th>\n",
       "      <th>Code</th>\n",
       "      <th>year</th>\n",
       "      <th>schizo</th>\n",
       "      <th>bipolar</th>\n",
       "      <th>eds</th>\n",
       "      <th>anxiety</th>\n",
       "      <th>drug</th>\n",
       "      <th>depres</th>\n",
       "      <th>alcohol</th>\n",
       "    </tr>\n",
       "  </thead>\n",
       "  <tbody>\n",
       "    <tr>\n",
       "      <th>0</th>\n",
       "      <td>Afghanistan</td>\n",
       "      <td>AFG</td>\n",
       "      <td>1990</td>\n",
       "      <td>0.16056</td>\n",
       "      <td>0.697779</td>\n",
       "      <td>0.101855</td>\n",
       "      <td>4.828830</td>\n",
       "      <td>1.677082</td>\n",
       "      <td>4.071831</td>\n",
       "      <td>0.672404</td>\n",
       "    </tr>\n",
       "    <tr>\n",
       "      <th>1</th>\n",
       "      <td>Afghanistan</td>\n",
       "      <td>AFG</td>\n",
       "      <td>1991</td>\n",
       "      <td>0.160312</td>\n",
       "      <td>0.697961</td>\n",
       "      <td>0.099313</td>\n",
       "      <td>4.829740</td>\n",
       "      <td>1.684746</td>\n",
       "      <td>4.079531</td>\n",
       "      <td>0.671768</td>\n",
       "    </tr>\n",
       "    <tr>\n",
       "      <th>2</th>\n",
       "      <td>Afghanistan</td>\n",
       "      <td>AFG</td>\n",
       "      <td>1992</td>\n",
       "      <td>0.160135</td>\n",
       "      <td>0.698107</td>\n",
       "      <td>0.096692</td>\n",
       "      <td>4.831108</td>\n",
       "      <td>1.694334</td>\n",
       "      <td>4.088358</td>\n",
       "      <td>0.670644</td>\n",
       "    </tr>\n",
       "    <tr>\n",
       "      <th>3</th>\n",
       "      <td>Afghanistan</td>\n",
       "      <td>AFG</td>\n",
       "      <td>1993</td>\n",
       "      <td>0.160037</td>\n",
       "      <td>0.698257</td>\n",
       "      <td>0.094336</td>\n",
       "      <td>4.830864</td>\n",
       "      <td>1.705320</td>\n",
       "      <td>4.096190</td>\n",
       "      <td>0.669738</td>\n",
       "    </tr>\n",
       "    <tr>\n",
       "      <th>4</th>\n",
       "      <td>Afghanistan</td>\n",
       "      <td>AFG</td>\n",
       "      <td>1994</td>\n",
       "      <td>0.160022</td>\n",
       "      <td>0.698469</td>\n",
       "      <td>0.092439</td>\n",
       "      <td>4.829423</td>\n",
       "      <td>1.716069</td>\n",
       "      <td>4.099582</td>\n",
       "      <td>0.669260</td>\n",
       "    </tr>\n",
       "    <tr>\n",
       "      <th>...</th>\n",
       "      <td>...</td>\n",
       "      <td>...</td>\n",
       "      <td>...</td>\n",
       "      <td>...</td>\n",
       "      <td>...</td>\n",
       "      <td>...</td>\n",
       "      <td>...</td>\n",
       "      <td>...</td>\n",
       "      <td>...</td>\n",
       "      <td>...</td>\n",
       "    </tr>\n",
       "    <tr>\n",
       "      <th>6463</th>\n",
       "      <td>Zimbabwe</td>\n",
       "      <td>ZWE</td>\n",
       "      <td>2013</td>\n",
       "      <td>0.15567</td>\n",
       "      <td>0.607993</td>\n",
       "      <td>0.117248</td>\n",
       "      <td>3.090168</td>\n",
       "      <td>0.766280</td>\n",
       "      <td>3.128192</td>\n",
       "      <td>1.515641</td>\n",
       "    </tr>\n",
       "    <tr>\n",
       "      <th>6464</th>\n",
       "      <td>Zimbabwe</td>\n",
       "      <td>ZWE</td>\n",
       "      <td>2014</td>\n",
       "      <td>0.155993</td>\n",
       "      <td>0.60861</td>\n",
       "      <td>0.118073</td>\n",
       "      <td>3.093964</td>\n",
       "      <td>0.768914</td>\n",
       "      <td>3.140290</td>\n",
       "      <td>1.515470</td>\n",
       "    </tr>\n",
       "    <tr>\n",
       "      <th>6465</th>\n",
       "      <td>Zimbabwe</td>\n",
       "      <td>ZWE</td>\n",
       "      <td>2015</td>\n",
       "      <td>0.156465</td>\n",
       "      <td>0.609363</td>\n",
       "      <td>0.11947</td>\n",
       "      <td>3.098687</td>\n",
       "      <td>0.771802</td>\n",
       "      <td>3.155710</td>\n",
       "      <td>1.514751</td>\n",
       "    </tr>\n",
       "    <tr>\n",
       "      <th>6466</th>\n",
       "      <td>Zimbabwe</td>\n",
       "      <td>ZWE</td>\n",
       "      <td>2016</td>\n",
       "      <td>0.157111</td>\n",
       "      <td>0.610234</td>\n",
       "      <td>0.121456</td>\n",
       "      <td>3.104294</td>\n",
       "      <td>0.772275</td>\n",
       "      <td>3.174134</td>\n",
       "      <td>1.513269</td>\n",
       "    </tr>\n",
       "    <tr>\n",
       "      <th>6467</th>\n",
       "      <td>Zimbabwe</td>\n",
       "      <td>ZWE</td>\n",
       "      <td>2017</td>\n",
       "      <td>0.157963</td>\n",
       "      <td>0.611242</td>\n",
       "      <td>0.124443</td>\n",
       "      <td>3.110926</td>\n",
       "      <td>0.772648</td>\n",
       "      <td>3.192789</td>\n",
       "      <td>1.510943</td>\n",
       "    </tr>\n",
       "  </tbody>\n",
       "</table>\n",
       "<p>5488 rows × 10 columns</p>\n",
       "</div>"
      ],
      "text/plain": [
       "          country Code  year    schizo   bipolar       eds   anxiety  \\\n",
       "0     Afghanistan  AFG  1990   0.16056  0.697779  0.101855  4.828830   \n",
       "1     Afghanistan  AFG  1991  0.160312  0.697961  0.099313  4.829740   \n",
       "2     Afghanistan  AFG  1992  0.160135  0.698107  0.096692  4.831108   \n",
       "3     Afghanistan  AFG  1993  0.160037  0.698257  0.094336  4.830864   \n",
       "4     Afghanistan  AFG  1994  0.160022  0.698469  0.092439  4.829423   \n",
       "...           ...  ...   ...       ...       ...       ...       ...   \n",
       "6463     Zimbabwe  ZWE  2013   0.15567  0.607993  0.117248  3.090168   \n",
       "6464     Zimbabwe  ZWE  2014  0.155993   0.60861  0.118073  3.093964   \n",
       "6465     Zimbabwe  ZWE  2015  0.156465  0.609363   0.11947  3.098687   \n",
       "6466     Zimbabwe  ZWE  2016  0.157111  0.610234  0.121456  3.104294   \n",
       "6467     Zimbabwe  ZWE  2017  0.157963  0.611242  0.124443  3.110926   \n",
       "\n",
       "          drug    depres   alcohol  \n",
       "0     1.677082  4.071831  0.672404  \n",
       "1     1.684746  4.079531  0.671768  \n",
       "2     1.694334  4.088358  0.670644  \n",
       "3     1.705320  4.096190  0.669738  \n",
       "4     1.716069  4.099582  0.669260  \n",
       "...        ...       ...       ...  \n",
       "6463  0.766280  3.128192  1.515641  \n",
       "6464  0.768914  3.140290  1.515470  \n",
       "6465  0.771802  3.155710  1.514751  \n",
       "6466  0.772275  3.174134  1.513269  \n",
       "6467  0.772648  3.192789  1.510943  \n",
       "\n",
       "[5488 rows x 10 columns]"
      ]
     },
     "execution_count": 16,
     "metadata": {},
     "output_type": "execute_result"
    }
   ],
   "source": [
    "#Dropping the rows which have non-numerical data, and so we concentrate on the rows up to 6467 for now\n",
    "geo_mh.dropna(inplace=True)\n",
    "geo_mh"
   ]
  },
  {
   "cell_type": "code",
   "execution_count": 17,
   "metadata": {},
   "outputs": [
    {
     "name": "stdout",
     "output_type": "stream",
     "text": [
      "<class 'pandas.core.frame.DataFrame'>\n",
      "Index: 5488 entries, 0 to 6467\n",
      "Data columns (total 10 columns):\n",
      " #   Column   Non-Null Count  Dtype  \n",
      "---  ------   --------------  -----  \n",
      " 0   country  5488 non-null   object \n",
      " 1   Code     5488 non-null   object \n",
      " 2   year     5488 non-null   int64  \n",
      " 3   schizo   5488 non-null   float64\n",
      " 4   bipolar  5488 non-null   float64\n",
      " 5   eds      5488 non-null   float64\n",
      " 6   anxiety  5488 non-null   float64\n",
      " 7   drug     5488 non-null   float64\n",
      " 8   depres   5488 non-null   float64\n",
      " 9   alcohol  5488 non-null   float64\n",
      "dtypes: float64(7), int64(1), object(2)\n",
      "memory usage: 471.6+ KB\n"
     ]
    }
   ],
   "source": [
    "#And change the non-numerical object data into floats.\n",
    "geo_mh['year'] = pd.to_numeric(geo_mh['year'])\n",
    "geo_mh['schizo'] = pd.to_numeric(geo_mh['schizo'])\n",
    "geo_mh['bipolar'] = pd.to_numeric(geo_mh['bipolar'])\n",
    "geo_mh['eds'] = pd.to_numeric(geo_mh['eds'])\n",
    "geo_mh.info()"
   ]
  },
  {
   "cell_type": "code",
   "execution_count": 18,
   "metadata": {},
   "outputs": [
    {
     "data": {
      "text/html": [
       "<div>\n",
       "<style scoped>\n",
       "    .dataframe tbody tr th:only-of-type {\n",
       "        vertical-align: middle;\n",
       "    }\n",
       "\n",
       "    .dataframe tbody tr th {\n",
       "        vertical-align: top;\n",
       "    }\n",
       "\n",
       "    .dataframe thead th {\n",
       "        text-align: right;\n",
       "    }\n",
       "</style>\n",
       "<table border=\"1\" class=\"dataframe\">\n",
       "  <thead>\n",
       "    <tr style=\"text-align: right;\">\n",
       "      <th></th>\n",
       "      <th>country</th>\n",
       "      <th>Code</th>\n",
       "      <th>year</th>\n",
       "      <th>schizo</th>\n",
       "      <th>bipolar</th>\n",
       "      <th>eds</th>\n",
       "      <th>anxiety</th>\n",
       "      <th>drug</th>\n",
       "      <th>depres</th>\n",
       "      <th>alcohol</th>\n",
       "    </tr>\n",
       "  </thead>\n",
       "  <tbody>\n",
       "    <tr>\n",
       "      <th>6076</th>\n",
       "      <td>United States</td>\n",
       "      <td>USA</td>\n",
       "      <td>1990</td>\n",
       "      <td>0.340897</td>\n",
       "      <td>0.653706</td>\n",
       "      <td>0.468676</td>\n",
       "      <td>6.576884</td>\n",
       "      <td>2.367794</td>\n",
       "      <td>4.677591</td>\n",
       "      <td>2.173751</td>\n",
       "    </tr>\n",
       "    <tr>\n",
       "      <th>6077</th>\n",
       "      <td>United States</td>\n",
       "      <td>USA</td>\n",
       "      <td>1991</td>\n",
       "      <td>0.338913</td>\n",
       "      <td>0.653953</td>\n",
       "      <td>0.473575</td>\n",
       "      <td>6.553351</td>\n",
       "      <td>2.345466</td>\n",
       "      <td>4.660871</td>\n",
       "      <td>2.139292</td>\n",
       "    </tr>\n",
       "    <tr>\n",
       "      <th>6078</th>\n",
       "      <td>United States</td>\n",
       "      <td>USA</td>\n",
       "      <td>1992</td>\n",
       "      <td>0.337343</td>\n",
       "      <td>0.654205</td>\n",
       "      <td>0.478610</td>\n",
       "      <td>6.536143</td>\n",
       "      <td>2.339515</td>\n",
       "      <td>4.651949</td>\n",
       "      <td>2.107931</td>\n",
       "    </tr>\n",
       "    <tr>\n",
       "      <th>6079</th>\n",
       "      <td>United States</td>\n",
       "      <td>USA</td>\n",
       "      <td>1993</td>\n",
       "      <td>0.336207</td>\n",
       "      <td>0.654431</td>\n",
       "      <td>0.483539</td>\n",
       "      <td>6.525536</td>\n",
       "      <td>2.347095</td>\n",
       "      <td>4.648701</td>\n",
       "      <td>2.080669</td>\n",
       "    </tr>\n",
       "    <tr>\n",
       "      <th>6080</th>\n",
       "      <td>United States</td>\n",
       "      <td>USA</td>\n",
       "      <td>1994</td>\n",
       "      <td>0.335536</td>\n",
       "      <td>0.654620</td>\n",
       "      <td>0.488235</td>\n",
       "      <td>6.522278</td>\n",
       "      <td>2.365738</td>\n",
       "      <td>4.649294</td>\n",
       "      <td>2.058632</td>\n",
       "    </tr>\n",
       "    <tr>\n",
       "      <th>6081</th>\n",
       "      <td>United States</td>\n",
       "      <td>USA</td>\n",
       "      <td>1995</td>\n",
       "      <td>0.335363</td>\n",
       "      <td>0.654721</td>\n",
       "      <td>0.492368</td>\n",
       "      <td>6.526489</td>\n",
       "      <td>2.392582</td>\n",
       "      <td>4.650869</td>\n",
       "      <td>2.042931</td>\n",
       "    </tr>\n",
       "    <tr>\n",
       "      <th>6082</th>\n",
       "      <td>United States</td>\n",
       "      <td>USA</td>\n",
       "      <td>1996</td>\n",
       "      <td>0.335806</td>\n",
       "      <td>0.654749</td>\n",
       "      <td>0.496752</td>\n",
       "      <td>6.578023</td>\n",
       "      <td>2.456048</td>\n",
       "      <td>4.662902</td>\n",
       "      <td>2.033987</td>\n",
       "    </tr>\n",
       "    <tr>\n",
       "      <th>6083</th>\n",
       "      <td>United States</td>\n",
       "      <td>USA</td>\n",
       "      <td>1997</td>\n",
       "      <td>0.336797</td>\n",
       "      <td>0.654720</td>\n",
       "      <td>0.501560</td>\n",
       "      <td>6.688847</td>\n",
       "      <td>2.564591</td>\n",
       "      <td>4.689154</td>\n",
       "      <td>2.030590</td>\n",
       "    </tr>\n",
       "    <tr>\n",
       "      <th>6084</th>\n",
       "      <td>United States</td>\n",
       "      <td>USA</td>\n",
       "      <td>1998</td>\n",
       "      <td>0.338085</td>\n",
       "      <td>0.654658</td>\n",
       "      <td>0.506483</td>\n",
       "      <td>6.818473</td>\n",
       "      <td>2.688823</td>\n",
       "      <td>4.720716</td>\n",
       "      <td>2.031176</td>\n",
       "    </tr>\n",
       "    <tr>\n",
       "      <th>6085</th>\n",
       "      <td>United States</td>\n",
       "      <td>USA</td>\n",
       "      <td>1999</td>\n",
       "      <td>0.339410</td>\n",
       "      <td>0.654564</td>\n",
       "      <td>0.511072</td>\n",
       "      <td>6.926351</td>\n",
       "      <td>2.800595</td>\n",
       "      <td>4.749991</td>\n",
       "      <td>2.034175</td>\n",
       "    </tr>\n",
       "    <tr>\n",
       "      <th>6086</th>\n",
       "      <td>United States</td>\n",
       "      <td>USA</td>\n",
       "      <td>2000</td>\n",
       "      <td>0.340512</td>\n",
       "      <td>0.654443</td>\n",
       "      <td>0.514863</td>\n",
       "      <td>6.971563</td>\n",
       "      <td>2.869426</td>\n",
       "      <td>4.766992</td>\n",
       "      <td>2.038026</td>\n",
       "    </tr>\n",
       "    <tr>\n",
       "      <th>6087</th>\n",
       "      <td>United States</td>\n",
       "      <td>USA</td>\n",
       "      <td>2001</td>\n",
       "      <td>0.341186</td>\n",
       "      <td>0.654371</td>\n",
       "      <td>0.518306</td>\n",
       "      <td>6.971995</td>\n",
       "      <td>2.905605</td>\n",
       "      <td>4.774031</td>\n",
       "      <td>2.043577</td>\n",
       "    </tr>\n",
       "    <tr>\n",
       "      <th>6088</th>\n",
       "      <td>United States</td>\n",
       "      <td>USA</td>\n",
       "      <td>2002</td>\n",
       "      <td>0.341483</td>\n",
       "      <td>0.654349</td>\n",
       "      <td>0.522170</td>\n",
       "      <td>6.971891</td>\n",
       "      <td>2.936109</td>\n",
       "      <td>4.778244</td>\n",
       "      <td>2.051480</td>\n",
       "    </tr>\n",
       "    <tr>\n",
       "      <th>6089</th>\n",
       "      <td>United States</td>\n",
       "      <td>USA</td>\n",
       "      <td>2003</td>\n",
       "      <td>0.341535</td>\n",
       "      <td>0.654343</td>\n",
       "      <td>0.526130</td>\n",
       "      <td>6.970935</td>\n",
       "      <td>2.962640</td>\n",
       "      <td>4.781680</td>\n",
       "      <td>2.059815</td>\n",
       "    </tr>\n",
       "    <tr>\n",
       "      <th>6090</th>\n",
       "      <td>United States</td>\n",
       "      <td>USA</td>\n",
       "      <td>2004</td>\n",
       "      <td>0.341472</td>\n",
       "      <td>0.654313</td>\n",
       "      <td>0.529332</td>\n",
       "      <td>6.968875</td>\n",
       "      <td>2.983414</td>\n",
       "      <td>4.785232</td>\n",
       "      <td>2.066706</td>\n",
       "    </tr>\n",
       "    <tr>\n",
       "      <th>6091</th>\n",
       "      <td>United States</td>\n",
       "      <td>USA</td>\n",
       "      <td>2005</td>\n",
       "      <td>0.341427</td>\n",
       "      <td>0.654228</td>\n",
       "      <td>0.531157</td>\n",
       "      <td>6.965249</td>\n",
       "      <td>2.998771</td>\n",
       "      <td>4.791258</td>\n",
       "      <td>2.070251</td>\n",
       "    </tr>\n",
       "    <tr>\n",
       "      <th>6092</th>\n",
       "      <td>United States</td>\n",
       "      <td>USA</td>\n",
       "      <td>2006</td>\n",
       "      <td>0.341031</td>\n",
       "      <td>0.654080</td>\n",
       "      <td>0.532178</td>\n",
       "      <td>6.937038</td>\n",
       "      <td>3.000826</td>\n",
       "      <td>4.793213</td>\n",
       "      <td>2.063498</td>\n",
       "    </tr>\n",
       "    <tr>\n",
       "      <th>6093</th>\n",
       "      <td>United States</td>\n",
       "      <td>USA</td>\n",
       "      <td>2007</td>\n",
       "      <td>0.340069</td>\n",
       "      <td>0.653896</td>\n",
       "      <td>0.533067</td>\n",
       "      <td>6.875454</td>\n",
       "      <td>2.989141</td>\n",
       "      <td>4.786623</td>\n",
       "      <td>2.045624</td>\n",
       "    </tr>\n",
       "    <tr>\n",
       "      <th>6094</th>\n",
       "      <td>United States</td>\n",
       "      <td>USA</td>\n",
       "      <td>2008</td>\n",
       "      <td>0.338901</td>\n",
       "      <td>0.653691</td>\n",
       "      <td>0.533768</td>\n",
       "      <td>6.801899</td>\n",
       "      <td>2.974336</td>\n",
       "      <td>4.776402</td>\n",
       "      <td>2.023935</td>\n",
       "    </tr>\n",
       "    <tr>\n",
       "      <th>6095</th>\n",
       "      <td>United States</td>\n",
       "      <td>USA</td>\n",
       "      <td>2009</td>\n",
       "      <td>0.337887</td>\n",
       "      <td>0.653468</td>\n",
       "      <td>0.534175</td>\n",
       "      <td>6.737790</td>\n",
       "      <td>2.966808</td>\n",
       "      <td>4.765950</td>\n",
       "      <td>2.005749</td>\n",
       "    </tr>\n",
       "    <tr>\n",
       "      <th>6096</th>\n",
       "      <td>United States</td>\n",
       "      <td>USA</td>\n",
       "      <td>2010</td>\n",
       "      <td>0.337390</td>\n",
       "      <td>0.653247</td>\n",
       "      <td>0.534076</td>\n",
       "      <td>6.704455</td>\n",
       "      <td>2.977144</td>\n",
       "      <td>4.761551</td>\n",
       "      <td>1.998437</td>\n",
       "    </tr>\n",
       "    <tr>\n",
       "      <th>6097</th>\n",
       "      <td>United States</td>\n",
       "      <td>USA</td>\n",
       "      <td>2011</td>\n",
       "      <td>0.337190</td>\n",
       "      <td>0.653008</td>\n",
       "      <td>0.533199</td>\n",
       "      <td>6.693384</td>\n",
       "      <td>3.007049</td>\n",
       "      <td>4.762322</td>\n",
       "      <td>1.999569</td>\n",
       "    </tr>\n",
       "    <tr>\n",
       "      <th>6098</th>\n",
       "      <td>United States</td>\n",
       "      <td>USA</td>\n",
       "      <td>2012</td>\n",
       "      <td>0.336852</td>\n",
       "      <td>0.652748</td>\n",
       "      <td>0.531514</td>\n",
       "      <td>6.682107</td>\n",
       "      <td>3.052340</td>\n",
       "      <td>4.765481</td>\n",
       "      <td>2.001951</td>\n",
       "    </tr>\n",
       "    <tr>\n",
       "      <th>6099</th>\n",
       "      <td>United States</td>\n",
       "      <td>USA</td>\n",
       "      <td>2013</td>\n",
       "      <td>0.336404</td>\n",
       "      <td>0.652479</td>\n",
       "      <td>0.528946</td>\n",
       "      <td>6.671047</td>\n",
       "      <td>3.110712</td>\n",
       "      <td>4.772422</td>\n",
       "      <td>2.005814</td>\n",
       "    </tr>\n",
       "    <tr>\n",
       "      <th>6100</th>\n",
       "      <td>United States</td>\n",
       "      <td>USA</td>\n",
       "      <td>2014</td>\n",
       "      <td>0.335860</td>\n",
       "      <td>0.652195</td>\n",
       "      <td>0.525990</td>\n",
       "      <td>6.660473</td>\n",
       "      <td>3.181115</td>\n",
       "      <td>4.782222</td>\n",
       "      <td>2.011345</td>\n",
       "    </tr>\n",
       "    <tr>\n",
       "      <th>6101</th>\n",
       "      <td>United States</td>\n",
       "      <td>USA</td>\n",
       "      <td>2015</td>\n",
       "      <td>0.335243</td>\n",
       "      <td>0.651890</td>\n",
       "      <td>0.522109</td>\n",
       "      <td>6.650662</td>\n",
       "      <td>3.262674</td>\n",
       "      <td>4.795954</td>\n",
       "      <td>2.018738</td>\n",
       "    </tr>\n",
       "    <tr>\n",
       "      <th>6102</th>\n",
       "      <td>United States</td>\n",
       "      <td>USA</td>\n",
       "      <td>2016</td>\n",
       "      <td>0.334578</td>\n",
       "      <td>0.651569</td>\n",
       "      <td>0.517728</td>\n",
       "      <td>6.642099</td>\n",
       "      <td>3.353142</td>\n",
       "      <td>4.813114</td>\n",
       "      <td>2.028263</td>\n",
       "    </tr>\n",
       "    <tr>\n",
       "      <th>6103</th>\n",
       "      <td>United States</td>\n",
       "      <td>USA</td>\n",
       "      <td>2017</td>\n",
       "      <td>0.333890</td>\n",
       "      <td>0.651236</td>\n",
       "      <td>0.512844</td>\n",
       "      <td>6.635055</td>\n",
       "      <td>3.452476</td>\n",
       "      <td>4.835610</td>\n",
       "      <td>2.040087</td>\n",
       "    </tr>\n",
       "  </tbody>\n",
       "</table>\n",
       "</div>"
      ],
      "text/plain": [
       "            country Code  year    schizo   bipolar       eds   anxiety  \\\n",
       "6076  United States  USA  1990  0.340897  0.653706  0.468676  6.576884   \n",
       "6077  United States  USA  1991  0.338913  0.653953  0.473575  6.553351   \n",
       "6078  United States  USA  1992  0.337343  0.654205  0.478610  6.536143   \n",
       "6079  United States  USA  1993  0.336207  0.654431  0.483539  6.525536   \n",
       "6080  United States  USA  1994  0.335536  0.654620  0.488235  6.522278   \n",
       "6081  United States  USA  1995  0.335363  0.654721  0.492368  6.526489   \n",
       "6082  United States  USA  1996  0.335806  0.654749  0.496752  6.578023   \n",
       "6083  United States  USA  1997  0.336797  0.654720  0.501560  6.688847   \n",
       "6084  United States  USA  1998  0.338085  0.654658  0.506483  6.818473   \n",
       "6085  United States  USA  1999  0.339410  0.654564  0.511072  6.926351   \n",
       "6086  United States  USA  2000  0.340512  0.654443  0.514863  6.971563   \n",
       "6087  United States  USA  2001  0.341186  0.654371  0.518306  6.971995   \n",
       "6088  United States  USA  2002  0.341483  0.654349  0.522170  6.971891   \n",
       "6089  United States  USA  2003  0.341535  0.654343  0.526130  6.970935   \n",
       "6090  United States  USA  2004  0.341472  0.654313  0.529332  6.968875   \n",
       "6091  United States  USA  2005  0.341427  0.654228  0.531157  6.965249   \n",
       "6092  United States  USA  2006  0.341031  0.654080  0.532178  6.937038   \n",
       "6093  United States  USA  2007  0.340069  0.653896  0.533067  6.875454   \n",
       "6094  United States  USA  2008  0.338901  0.653691  0.533768  6.801899   \n",
       "6095  United States  USA  2009  0.337887  0.653468  0.534175  6.737790   \n",
       "6096  United States  USA  2010  0.337390  0.653247  0.534076  6.704455   \n",
       "6097  United States  USA  2011  0.337190  0.653008  0.533199  6.693384   \n",
       "6098  United States  USA  2012  0.336852  0.652748  0.531514  6.682107   \n",
       "6099  United States  USA  2013  0.336404  0.652479  0.528946  6.671047   \n",
       "6100  United States  USA  2014  0.335860  0.652195  0.525990  6.660473   \n",
       "6101  United States  USA  2015  0.335243  0.651890  0.522109  6.650662   \n",
       "6102  United States  USA  2016  0.334578  0.651569  0.517728  6.642099   \n",
       "6103  United States  USA  2017  0.333890  0.651236  0.512844  6.635055   \n",
       "\n",
       "          drug    depres   alcohol  \n",
       "6076  2.367794  4.677591  2.173751  \n",
       "6077  2.345466  4.660871  2.139292  \n",
       "6078  2.339515  4.651949  2.107931  \n",
       "6079  2.347095  4.648701  2.080669  \n",
       "6080  2.365738  4.649294  2.058632  \n",
       "6081  2.392582  4.650869  2.042931  \n",
       "6082  2.456048  4.662902  2.033987  \n",
       "6083  2.564591  4.689154  2.030590  \n",
       "6084  2.688823  4.720716  2.031176  \n",
       "6085  2.800595  4.749991  2.034175  \n",
       "6086  2.869426  4.766992  2.038026  \n",
       "6087  2.905605  4.774031  2.043577  \n",
       "6088  2.936109  4.778244  2.051480  \n",
       "6089  2.962640  4.781680  2.059815  \n",
       "6090  2.983414  4.785232  2.066706  \n",
       "6091  2.998771  4.791258  2.070251  \n",
       "6092  3.000826  4.793213  2.063498  \n",
       "6093  2.989141  4.786623  2.045624  \n",
       "6094  2.974336  4.776402  2.023935  \n",
       "6095  2.966808  4.765950  2.005749  \n",
       "6096  2.977144  4.761551  1.998437  \n",
       "6097  3.007049  4.762322  1.999569  \n",
       "6098  3.052340  4.765481  2.001951  \n",
       "6099  3.110712  4.772422  2.005814  \n",
       "6100  3.181115  4.782222  2.011345  \n",
       "6101  3.262674  4.795954  2.018738  \n",
       "6102  3.353142  4.813114  2.028263  \n",
       "6103  3.452476  4.835610  2.040087  "
      ]
     },
     "execution_count": 18,
     "metadata": {},
     "output_type": "execute_result"
    }
   ],
   "source": [
    "\n",
    "#Have a quick look at the data through the years for one country\n",
    "usa = geo_mh[geo_mh['Code'] == 'USA']\n",
    "usa.set_index('year')\n",
    "usa"
   ]
  },
  {
   "cell_type": "code",
   "execution_count": 19,
   "metadata": {},
   "outputs": [
    {
     "data": {
      "text/html": [
       "<div>\n",
       "<style scoped>\n",
       "    .dataframe tbody tr th:only-of-type {\n",
       "        vertical-align: middle;\n",
       "    }\n",
       "\n",
       "    .dataframe tbody tr th {\n",
       "        vertical-align: top;\n",
       "    }\n",
       "\n",
       "    .dataframe thead th {\n",
       "        text-align: right;\n",
       "    }\n",
       "</style>\n",
       "<table border=\"1\" class=\"dataframe\">\n",
       "  <thead>\n",
       "    <tr style=\"text-align: right;\">\n",
       "      <th></th>\n",
       "      <th>schizo</th>\n",
       "      <th>bipolar</th>\n",
       "      <th>eds</th>\n",
       "      <th>anxiety</th>\n",
       "      <th>drug</th>\n",
       "      <th>depres</th>\n",
       "      <th>alcohol</th>\n",
       "    </tr>\n",
       "  </thead>\n",
       "  <tbody>\n",
       "    <tr>\n",
       "      <th>6071</th>\n",
       "      <td>NaN</td>\n",
       "      <td>NaN</td>\n",
       "      <td>NaN</td>\n",
       "      <td>NaN</td>\n",
       "      <td>NaN</td>\n",
       "      <td>NaN</td>\n",
       "      <td>NaN</td>\n",
       "    </tr>\n",
       "    <tr>\n",
       "      <th>6072</th>\n",
       "      <td>NaN</td>\n",
       "      <td>NaN</td>\n",
       "      <td>NaN</td>\n",
       "      <td>NaN</td>\n",
       "      <td>NaN</td>\n",
       "      <td>NaN</td>\n",
       "      <td>NaN</td>\n",
       "    </tr>\n",
       "    <tr>\n",
       "      <th>6073</th>\n",
       "      <td>NaN</td>\n",
       "      <td>NaN</td>\n",
       "      <td>NaN</td>\n",
       "      <td>NaN</td>\n",
       "      <td>NaN</td>\n",
       "      <td>NaN</td>\n",
       "      <td>NaN</td>\n",
       "    </tr>\n",
       "    <tr>\n",
       "      <th>6074</th>\n",
       "      <td>NaN</td>\n",
       "      <td>NaN</td>\n",
       "      <td>NaN</td>\n",
       "      <td>NaN</td>\n",
       "      <td>NaN</td>\n",
       "      <td>NaN</td>\n",
       "      <td>NaN</td>\n",
       "    </tr>\n",
       "    <tr>\n",
       "      <th>6075</th>\n",
       "      <td>0.054969</td>\n",
       "      <td>0.001085</td>\n",
       "      <td>0.20717</td>\n",
       "      <td>0.017546</td>\n",
       "      <td>0.1327</td>\n",
       "      <td>-0.034086</td>\n",
       "      <td>0.343796</td>\n",
       "    </tr>\n",
       "  </tbody>\n",
       "</table>\n",
       "</div>"
      ],
      "text/plain": [
       "        schizo   bipolar      eds   anxiety    drug    depres   alcohol\n",
       "6071       NaN       NaN      NaN       NaN     NaN       NaN       NaN\n",
       "6072       NaN       NaN      NaN       NaN     NaN       NaN       NaN\n",
       "6073       NaN       NaN      NaN       NaN     NaN       NaN       NaN\n",
       "6074       NaN       NaN      NaN       NaN     NaN       NaN       NaN\n",
       "6075  0.054969  0.001085  0.20717  0.017546  0.1327 -0.034086  0.343796"
      ]
     },
     "execution_count": 19,
     "metadata": {},
     "output_type": "execute_result"
    }
   ],
   "source": [
    "geo_mh.loc[6048:6075,'schizo':'alcohol'].pct_change(periods=27).tail()"
   ]
  },
  {
   "cell_type": "code",
   "execution_count": 24,
   "metadata": {},
   "outputs": [],
   "source": [
    "# Now let's look at na data only\n",
    "# create list of countries for europe to extract these into a separate dataframe\n",
    "country_na = ['United States','Mexico',\n",
    "                  'Greenland','Canada',\n",
    "                  'Cuba','Jamaica',\n",
    "                  'Panama','Haiti',\n",
    "                  'Puerto Rico','Costa Rica',\n",
    "                  'Dominican Republic','Guatemala',\n",
    "                  'Honduras','Belize',\n",
    "                  'The Bahamas...','Nicaragua',\n",
    "                  'Martinique','Sint Maarten','Turks and Caicos Islands',\n",
    "                  'Grenada','Saint Kitts and Nevis','Cayman Islands',\n",
    "                  'United States Minor Outlying Islands','Antigua Barbuda','Anguilla',\n",
    "                  'Dominica','Saint Lucia','Saint Vincet and the Grenadines',\n",
    "                  'British Virgins Islands','Saint Pierre and Miquelon','United States Virgin Islands',\n",
    "                  'Saint Barthelemy','Momtserrat','Saint Martin']\n",
    "\n"
   ]
  },
  {
   "cell_type": "code",
   "execution_count": 25,
   "metadata": {},
   "outputs": [
    {
     "data": {
      "text/html": [
       "<div>\n",
       "<style scoped>\n",
       "    .dataframe tbody tr th:only-of-type {\n",
       "        vertical-align: middle;\n",
       "    }\n",
       "\n",
       "    .dataframe tbody tr th {\n",
       "        vertical-align: top;\n",
       "    }\n",
       "\n",
       "    .dataframe thead th {\n",
       "        text-align: right;\n",
       "    }\n",
       "</style>\n",
       "<table border=\"1\" class=\"dataframe\">\n",
       "  <thead>\n",
       "    <tr style=\"text-align: right;\">\n",
       "      <th></th>\n",
       "      <th>country</th>\n",
       "      <th>Code</th>\n",
       "      <th>year</th>\n",
       "      <th>schizo</th>\n",
       "      <th>bipolar</th>\n",
       "      <th>eds</th>\n",
       "      <th>anxiety</th>\n",
       "      <th>drug</th>\n",
       "      <th>depres</th>\n",
       "      <th>alcohol</th>\n",
       "    </tr>\n",
       "  </thead>\n",
       "  <tbody>\n",
       "    <tr>\n",
       "      <th>587</th>\n",
       "      <td>Belize</td>\n",
       "      <td>BLZ</td>\n",
       "      <td>2017</td>\n",
       "      <td>0.194922</td>\n",
       "      <td>0.881647</td>\n",
       "      <td>0.258710</td>\n",
       "      <td>4.568548</td>\n",
       "      <td>0.836792</td>\n",
       "      <td>2.838667</td>\n",
       "      <td>1.784013</td>\n",
       "    </tr>\n",
       "    <tr>\n",
       "      <th>979</th>\n",
       "      <td>Canada</td>\n",
       "      <td>CAN</td>\n",
       "      <td>2017</td>\n",
       "      <td>0.315588</td>\n",
       "      <td>0.716413</td>\n",
       "      <td>0.477304</td>\n",
       "      <td>5.178218</td>\n",
       "      <td>2.276229</td>\n",
       "      <td>3.988792</td>\n",
       "      <td>1.617937</td>\n",
       "    </tr>\n",
       "    <tr>\n",
       "      <th>1399</th>\n",
       "      <td>Costa Rica</td>\n",
       "      <td>CRI</td>\n",
       "      <td>2017</td>\n",
       "      <td>0.213890</td>\n",
       "      <td>0.843753</td>\n",
       "      <td>0.289342</td>\n",
       "      <td>2.936829</td>\n",
       "      <td>0.778956</td>\n",
       "      <td>2.904788</td>\n",
       "      <td>1.472594</td>\n",
       "    </tr>\n",
       "    <tr>\n",
       "      <th>1483</th>\n",
       "      <td>Cuba</td>\n",
       "      <td>CUB</td>\n",
       "      <td>2017</td>\n",
       "      <td>0.204501</td>\n",
       "      <td>0.943329</td>\n",
       "      <td>0.263159</td>\n",
       "      <td>4.623594</td>\n",
       "      <td>0.778000</td>\n",
       "      <td>3.319131</td>\n",
       "      <td>1.734783</td>\n",
       "    </tr>\n",
       "    <tr>\n",
       "      <th>1651</th>\n",
       "      <td>Dominica</td>\n",
       "      <td>DMA</td>\n",
       "      <td>2017</td>\n",
       "      <td>0.199904</td>\n",
       "      <td>0.888732</td>\n",
       "      <td>0.277127</td>\n",
       "      <td>4.544904</td>\n",
       "      <td>0.895650</td>\n",
       "      <td>2.629649</td>\n",
       "      <td>2.100689</td>\n",
       "    </tr>\n",
       "  </tbody>\n",
       "</table>\n",
       "</div>"
      ],
      "text/plain": [
       "         country Code  year    schizo   bipolar       eds   anxiety      drug  \\\n",
       "587       Belize  BLZ  2017  0.194922  0.881647  0.258710  4.568548  0.836792   \n",
       "979       Canada  CAN  2017  0.315588  0.716413  0.477304  5.178218  2.276229   \n",
       "1399  Costa Rica  CRI  2017  0.213890  0.843753  0.289342  2.936829  0.778956   \n",
       "1483        Cuba  CUB  2017  0.204501  0.943329  0.263159  4.623594  0.778000   \n",
       "1651    Dominica  DMA  2017  0.199904  0.888732  0.277127  4.544904  0.895650   \n",
       "\n",
       "        depres   alcohol  \n",
       "587   2.838667  1.784013  \n",
       "979   3.988792  1.617937  \n",
       "1399  2.904788  1.472594  \n",
       "1483  3.319131  1.734783  \n",
       "1651  2.629649  2.100689  "
      ]
     },
     "execution_count": 25,
     "metadata": {},
     "output_type": "execute_result"
    }
   ],
   "source": [
    "usa = geo_mh[geo_mh['country'].isin(country_na)]\n",
    "usa = usa[usa['year'] == 2017]\n",
    "usa.head()"
   ]
  },
  {
   "cell_type": "code",
   "execution_count": 26,
   "metadata": {},
   "outputs": [
    {
     "data": {
      "text/html": [
       "        <script type=\"text/javascript\">\n",
       "        window.PlotlyConfig = {MathJaxConfig: 'local'};\n",
       "        if (window.MathJax && window.MathJax.Hub && window.MathJax.Hub.Config) {window.MathJax.Hub.Config({SVG: {font: \"STIX-Web\"}});}\n",
       "        if (typeof require !== 'undefined') {\n",
       "        require.undef(\"plotly\");\n",
       "        requirejs.config({\n",
       "            paths: {\n",
       "                'plotly': ['https://cdn.plot.ly/plotly-2.25.2.min']\n",
       "            }\n",
       "        });\n",
       "        require(['plotly'], function(Plotly) {\n",
       "            window._Plotly = Plotly;\n",
       "        });\n",
       "        }\n",
       "        </script>\n",
       "        "
      ]
     },
     "metadata": {},
     "output_type": "display_data"
    }
   ],
   "source": [
    "# Import libraries\n",
    "import plotly.graph_objects as go\n",
    "from plotly.offline import download_plotlyjs, init_notebook_mode, plot, iplot\n",
    "init_notebook_mode(connected=True) "
   ]
  },
  {
   "cell_type": "code",
   "execution_count": 27,
   "metadata": {},
   "outputs": [],
   "source": [
    "# Depression\n",
    "dep_data = dict(\n",
    "        type = 'choropleth',\n",
    "        colorscale = 'Viridis',\n",
    "        reversescale = True,\n",
    "        locations = usa['country'],\n",
    "        locationmode = \"country names\",\n",
    "        z = usa['depres'],\n",
    "        text = usa['country'],\n",
    "        colorbar = {'title' : 'Depression %'},\n",
    "      ) \n",
    "dep_layout = dict(title = 'Prevalence of Depressive Disorder in North America in 2017', \n",
    "              geo = dict({'scope':'north america', 'bgcolor':'grey'}, projection = {'type':'natural earth1'}, showframe = True))"
   ]
  },
  {
   "cell_type": "code",
   "execution_count": 28,
   "metadata": {},
   "outputs": [
    {
     "data": {
      "application/vnd.plotly.v1+json": {
       "config": {
        "linkText": "Export to plot.ly",
        "plotlyServerURL": "https://plot.ly",
        "showLink": false
       },
       "data": [
        {
         "colorbar": {
          "title": {
           "text": "Depression %"
          }
         },
         "colorscale": [
          [
           0,
           "#440154"
          ],
          [
           0.1111111111111111,
           "#482878"
          ],
          [
           0.2222222222222222,
           "#3e4989"
          ],
          [
           0.3333333333333333,
           "#31688e"
          ],
          [
           0.4444444444444444,
           "#26828e"
          ],
          [
           0.5555555555555556,
           "#1f9e89"
          ],
          [
           0.6666666666666666,
           "#35b779"
          ],
          [
           0.7777777777777778,
           "#6ece58"
          ],
          [
           0.8888888888888888,
           "#b5de2b"
          ],
          [
           1,
           "#fde725"
          ]
         ],
         "locationmode": "country names",
         "locations": [
          "Belize",
          "Canada",
          "Costa Rica",
          "Cuba",
          "Dominica",
          "Dominican Republic",
          "Greenland",
          "Grenada",
          "Guatemala",
          "Haiti",
          "Honduras",
          "Jamaica",
          "Mexico",
          "Nicaragua",
          "Panama",
          "Puerto Rico",
          "Saint Lucia",
          "United States",
          "United States Virgin Islands"
         ],
         "reversescale": true,
         "text": [
          "Belize",
          "Canada",
          "Costa Rica",
          "Cuba",
          "Dominica",
          "Dominican Republic",
          "Greenland",
          "Grenada",
          "Guatemala",
          "Haiti",
          "Honduras",
          "Jamaica",
          "Mexico",
          "Nicaragua",
          "Panama",
          "Puerto Rico",
          "Saint Lucia",
          "United States",
          "United States Virgin Islands"
         ],
         "type": "choropleth",
         "z": [
          2.838667,
          3.988792,
          2.904788,
          3.319131,
          2.629649,
          2.978523,
          6.233635,
          2.770066,
          3.216025,
          2.957782,
          2.752301,
          2.592385,
          2.788807,
          2.854084,
          2.679025,
          2.726108,
          2.839268,
          4.83561,
          2.925182
         ]
        }
       ],
       "layout": {
        "geo": {
         "bgcolor": "grey",
         "projection": {
          "type": "natural earth1"
         },
         "scope": "north america",
         "showframe": true
        },
        "template": {
         "data": {
          "bar": [
           {
            "error_x": {
             "color": "#2a3f5f"
            },
            "error_y": {
             "color": "#2a3f5f"
            },
            "marker": {
             "line": {
              "color": "#E5ECF6",
              "width": 0.5
             },
             "pattern": {
              "fillmode": "overlay",
              "size": 10,
              "solidity": 0.2
             }
            },
            "type": "bar"
           }
          ],
          "barpolar": [
           {
            "marker": {
             "line": {
              "color": "#E5ECF6",
              "width": 0.5
             },
             "pattern": {
              "fillmode": "overlay",
              "size": 10,
              "solidity": 0.2
             }
            },
            "type": "barpolar"
           }
          ],
          "carpet": [
           {
            "aaxis": {
             "endlinecolor": "#2a3f5f",
             "gridcolor": "white",
             "linecolor": "white",
             "minorgridcolor": "white",
             "startlinecolor": "#2a3f5f"
            },
            "baxis": {
             "endlinecolor": "#2a3f5f",
             "gridcolor": "white",
             "linecolor": "white",
             "minorgridcolor": "white",
             "startlinecolor": "#2a3f5f"
            },
            "type": "carpet"
           }
          ],
          "choropleth": [
           {
            "colorbar": {
             "outlinewidth": 0,
             "ticks": ""
            },
            "type": "choropleth"
           }
          ],
          "contour": [
           {
            "colorbar": {
             "outlinewidth": 0,
             "ticks": ""
            },
            "colorscale": [
             [
              0,
              "#0d0887"
             ],
             [
              0.1111111111111111,
              "#46039f"
             ],
             [
              0.2222222222222222,
              "#7201a8"
             ],
             [
              0.3333333333333333,
              "#9c179e"
             ],
             [
              0.4444444444444444,
              "#bd3786"
             ],
             [
              0.5555555555555556,
              "#d8576b"
             ],
             [
              0.6666666666666666,
              "#ed7953"
             ],
             [
              0.7777777777777778,
              "#fb9f3a"
             ],
             [
              0.8888888888888888,
              "#fdca26"
             ],
             [
              1,
              "#f0f921"
             ]
            ],
            "type": "contour"
           }
          ],
          "contourcarpet": [
           {
            "colorbar": {
             "outlinewidth": 0,
             "ticks": ""
            },
            "type": "contourcarpet"
           }
          ],
          "heatmap": [
           {
            "colorbar": {
             "outlinewidth": 0,
             "ticks": ""
            },
            "colorscale": [
             [
              0,
              "#0d0887"
             ],
             [
              0.1111111111111111,
              "#46039f"
             ],
             [
              0.2222222222222222,
              "#7201a8"
             ],
             [
              0.3333333333333333,
              "#9c179e"
             ],
             [
              0.4444444444444444,
              "#bd3786"
             ],
             [
              0.5555555555555556,
              "#d8576b"
             ],
             [
              0.6666666666666666,
              "#ed7953"
             ],
             [
              0.7777777777777778,
              "#fb9f3a"
             ],
             [
              0.8888888888888888,
              "#fdca26"
             ],
             [
              1,
              "#f0f921"
             ]
            ],
            "type": "heatmap"
           }
          ],
          "heatmapgl": [
           {
            "colorbar": {
             "outlinewidth": 0,
             "ticks": ""
            },
            "colorscale": [
             [
              0,
              "#0d0887"
             ],
             [
              0.1111111111111111,
              "#46039f"
             ],
             [
              0.2222222222222222,
              "#7201a8"
             ],
             [
              0.3333333333333333,
              "#9c179e"
             ],
             [
              0.4444444444444444,
              "#bd3786"
             ],
             [
              0.5555555555555556,
              "#d8576b"
             ],
             [
              0.6666666666666666,
              "#ed7953"
             ],
             [
              0.7777777777777778,
              "#fb9f3a"
             ],
             [
              0.8888888888888888,
              "#fdca26"
             ],
             [
              1,
              "#f0f921"
             ]
            ],
            "type": "heatmapgl"
           }
          ],
          "histogram": [
           {
            "marker": {
             "pattern": {
              "fillmode": "overlay",
              "size": 10,
              "solidity": 0.2
             }
            },
            "type": "histogram"
           }
          ],
          "histogram2d": [
           {
            "colorbar": {
             "outlinewidth": 0,
             "ticks": ""
            },
            "colorscale": [
             [
              0,
              "#0d0887"
             ],
             [
              0.1111111111111111,
              "#46039f"
             ],
             [
              0.2222222222222222,
              "#7201a8"
             ],
             [
              0.3333333333333333,
              "#9c179e"
             ],
             [
              0.4444444444444444,
              "#bd3786"
             ],
             [
              0.5555555555555556,
              "#d8576b"
             ],
             [
              0.6666666666666666,
              "#ed7953"
             ],
             [
              0.7777777777777778,
              "#fb9f3a"
             ],
             [
              0.8888888888888888,
              "#fdca26"
             ],
             [
              1,
              "#f0f921"
             ]
            ],
            "type": "histogram2d"
           }
          ],
          "histogram2dcontour": [
           {
            "colorbar": {
             "outlinewidth": 0,
             "ticks": ""
            },
            "colorscale": [
             [
              0,
              "#0d0887"
             ],
             [
              0.1111111111111111,
              "#46039f"
             ],
             [
              0.2222222222222222,
              "#7201a8"
             ],
             [
              0.3333333333333333,
              "#9c179e"
             ],
             [
              0.4444444444444444,
              "#bd3786"
             ],
             [
              0.5555555555555556,
              "#d8576b"
             ],
             [
              0.6666666666666666,
              "#ed7953"
             ],
             [
              0.7777777777777778,
              "#fb9f3a"
             ],
             [
              0.8888888888888888,
              "#fdca26"
             ],
             [
              1,
              "#f0f921"
             ]
            ],
            "type": "histogram2dcontour"
           }
          ],
          "mesh3d": [
           {
            "colorbar": {
             "outlinewidth": 0,
             "ticks": ""
            },
            "type": "mesh3d"
           }
          ],
          "parcoords": [
           {
            "line": {
             "colorbar": {
              "outlinewidth": 0,
              "ticks": ""
             }
            },
            "type": "parcoords"
           }
          ],
          "pie": [
           {
            "automargin": true,
            "type": "pie"
           }
          ],
          "scatter": [
           {
            "fillpattern": {
             "fillmode": "overlay",
             "size": 10,
             "solidity": 0.2
            },
            "type": "scatter"
           }
          ],
          "scatter3d": [
           {
            "line": {
             "colorbar": {
              "outlinewidth": 0,
              "ticks": ""
             }
            },
            "marker": {
             "colorbar": {
              "outlinewidth": 0,
              "ticks": ""
             }
            },
            "type": "scatter3d"
           }
          ],
          "scattercarpet": [
           {
            "marker": {
             "colorbar": {
              "outlinewidth": 0,
              "ticks": ""
             }
            },
            "type": "scattercarpet"
           }
          ],
          "scattergeo": [
           {
            "marker": {
             "colorbar": {
              "outlinewidth": 0,
              "ticks": ""
             }
            },
            "type": "scattergeo"
           }
          ],
          "scattergl": [
           {
            "marker": {
             "colorbar": {
              "outlinewidth": 0,
              "ticks": ""
             }
            },
            "type": "scattergl"
           }
          ],
          "scattermapbox": [
           {
            "marker": {
             "colorbar": {
              "outlinewidth": 0,
              "ticks": ""
             }
            },
            "type": "scattermapbox"
           }
          ],
          "scatterpolar": [
           {
            "marker": {
             "colorbar": {
              "outlinewidth": 0,
              "ticks": ""
             }
            },
            "type": "scatterpolar"
           }
          ],
          "scatterpolargl": [
           {
            "marker": {
             "colorbar": {
              "outlinewidth": 0,
              "ticks": ""
             }
            },
            "type": "scatterpolargl"
           }
          ],
          "scatterternary": [
           {
            "marker": {
             "colorbar": {
              "outlinewidth": 0,
              "ticks": ""
             }
            },
            "type": "scatterternary"
           }
          ],
          "surface": [
           {
            "colorbar": {
             "outlinewidth": 0,
             "ticks": ""
            },
            "colorscale": [
             [
              0,
              "#0d0887"
             ],
             [
              0.1111111111111111,
              "#46039f"
             ],
             [
              0.2222222222222222,
              "#7201a8"
             ],
             [
              0.3333333333333333,
              "#9c179e"
             ],
             [
              0.4444444444444444,
              "#bd3786"
             ],
             [
              0.5555555555555556,
              "#d8576b"
             ],
             [
              0.6666666666666666,
              "#ed7953"
             ],
             [
              0.7777777777777778,
              "#fb9f3a"
             ],
             [
              0.8888888888888888,
              "#fdca26"
             ],
             [
              1,
              "#f0f921"
             ]
            ],
            "type": "surface"
           }
          ],
          "table": [
           {
            "cells": {
             "fill": {
              "color": "#EBF0F8"
             },
             "line": {
              "color": "white"
             }
            },
            "header": {
             "fill": {
              "color": "#C8D4E3"
             },
             "line": {
              "color": "white"
             }
            },
            "type": "table"
           }
          ]
         },
         "layout": {
          "annotationdefaults": {
           "arrowcolor": "#2a3f5f",
           "arrowhead": 0,
           "arrowwidth": 1
          },
          "autotypenumbers": "strict",
          "coloraxis": {
           "colorbar": {
            "outlinewidth": 0,
            "ticks": ""
           }
          },
          "colorscale": {
           "diverging": [
            [
             0,
             "#8e0152"
            ],
            [
             0.1,
             "#c51b7d"
            ],
            [
             0.2,
             "#de77ae"
            ],
            [
             0.3,
             "#f1b6da"
            ],
            [
             0.4,
             "#fde0ef"
            ],
            [
             0.5,
             "#f7f7f7"
            ],
            [
             0.6,
             "#e6f5d0"
            ],
            [
             0.7,
             "#b8e186"
            ],
            [
             0.8,
             "#7fbc41"
            ],
            [
             0.9,
             "#4d9221"
            ],
            [
             1,
             "#276419"
            ]
           ],
           "sequential": [
            [
             0,
             "#0d0887"
            ],
            [
             0.1111111111111111,
             "#46039f"
            ],
            [
             0.2222222222222222,
             "#7201a8"
            ],
            [
             0.3333333333333333,
             "#9c179e"
            ],
            [
             0.4444444444444444,
             "#bd3786"
            ],
            [
             0.5555555555555556,
             "#d8576b"
            ],
            [
             0.6666666666666666,
             "#ed7953"
            ],
            [
             0.7777777777777778,
             "#fb9f3a"
            ],
            [
             0.8888888888888888,
             "#fdca26"
            ],
            [
             1,
             "#f0f921"
            ]
           ],
           "sequentialminus": [
            [
             0,
             "#0d0887"
            ],
            [
             0.1111111111111111,
             "#46039f"
            ],
            [
             0.2222222222222222,
             "#7201a8"
            ],
            [
             0.3333333333333333,
             "#9c179e"
            ],
            [
             0.4444444444444444,
             "#bd3786"
            ],
            [
             0.5555555555555556,
             "#d8576b"
            ],
            [
             0.6666666666666666,
             "#ed7953"
            ],
            [
             0.7777777777777778,
             "#fb9f3a"
            ],
            [
             0.8888888888888888,
             "#fdca26"
            ],
            [
             1,
             "#f0f921"
            ]
           ]
          },
          "colorway": [
           "#636efa",
           "#EF553B",
           "#00cc96",
           "#ab63fa",
           "#FFA15A",
           "#19d3f3",
           "#FF6692",
           "#B6E880",
           "#FF97FF",
           "#FECB52"
          ],
          "font": {
           "color": "#2a3f5f"
          },
          "geo": {
           "bgcolor": "white",
           "lakecolor": "white",
           "landcolor": "#E5ECF6",
           "showlakes": true,
           "showland": true,
           "subunitcolor": "white"
          },
          "hoverlabel": {
           "align": "left"
          },
          "hovermode": "closest",
          "mapbox": {
           "style": "light"
          },
          "paper_bgcolor": "white",
          "plot_bgcolor": "#E5ECF6",
          "polar": {
           "angularaxis": {
            "gridcolor": "white",
            "linecolor": "white",
            "ticks": ""
           },
           "bgcolor": "#E5ECF6",
           "radialaxis": {
            "gridcolor": "white",
            "linecolor": "white",
            "ticks": ""
           }
          },
          "scene": {
           "xaxis": {
            "backgroundcolor": "#E5ECF6",
            "gridcolor": "white",
            "gridwidth": 2,
            "linecolor": "white",
            "showbackground": true,
            "ticks": "",
            "zerolinecolor": "white"
           },
           "yaxis": {
            "backgroundcolor": "#E5ECF6",
            "gridcolor": "white",
            "gridwidth": 2,
            "linecolor": "white",
            "showbackground": true,
            "ticks": "",
            "zerolinecolor": "white"
           },
           "zaxis": {
            "backgroundcolor": "#E5ECF6",
            "gridcolor": "white",
            "gridwidth": 2,
            "linecolor": "white",
            "showbackground": true,
            "ticks": "",
            "zerolinecolor": "white"
           }
          },
          "shapedefaults": {
           "line": {
            "color": "#2a3f5f"
           }
          },
          "ternary": {
           "aaxis": {
            "gridcolor": "white",
            "linecolor": "white",
            "ticks": ""
           },
           "baxis": {
            "gridcolor": "white",
            "linecolor": "white",
            "ticks": ""
           },
           "bgcolor": "#E5ECF6",
           "caxis": {
            "gridcolor": "white",
            "linecolor": "white",
            "ticks": ""
           }
          },
          "title": {
           "x": 0.05
          },
          "xaxis": {
           "automargin": true,
           "gridcolor": "white",
           "linecolor": "white",
           "ticks": "",
           "title": {
            "standoff": 15
           },
           "zerolinecolor": "white",
           "zerolinewidth": 2
          },
          "yaxis": {
           "automargin": true,
           "gridcolor": "white",
           "linecolor": "white",
           "ticks": "",
           "title": {
            "standoff": 15
           },
           "zerolinecolor": "white",
           "zerolinewidth": 2
          }
         }
        },
        "title": {
         "text": "Prevalence of Depressive Disorder in North America in 2017"
        }
       }
      },
      "text/html": [
       "<div>                            <div id=\"41b4f07a-1006-464d-b3d1-10066c3ea04c\" class=\"plotly-graph-div\" style=\"height:525px; width:100%;\"></div>            <script type=\"text/javascript\">                require([\"plotly\"], function(Plotly) {                    window.PLOTLYENV=window.PLOTLYENV || {};                                    if (document.getElementById(\"41b4f07a-1006-464d-b3d1-10066c3ea04c\")) {                    Plotly.newPlot(                        \"41b4f07a-1006-464d-b3d1-10066c3ea04c\",                        [{\"colorbar\":{\"title\":{\"text\":\"Depression %\"}},\"colorscale\":[[0.0,\"#440154\"],[0.1111111111111111,\"#482878\"],[0.2222222222222222,\"#3e4989\"],[0.3333333333333333,\"#31688e\"],[0.4444444444444444,\"#26828e\"],[0.5555555555555556,\"#1f9e89\"],[0.6666666666666666,\"#35b779\"],[0.7777777777777778,\"#6ece58\"],[0.8888888888888888,\"#b5de2b\"],[1.0,\"#fde725\"]],\"locationmode\":\"country names\",\"locations\":[\"Belize\",\"Canada\",\"Costa Rica\",\"Cuba\",\"Dominica\",\"Dominican Republic\",\"Greenland\",\"Grenada\",\"Guatemala\",\"Haiti\",\"Honduras\",\"Jamaica\",\"Mexico\",\"Nicaragua\",\"Panama\",\"Puerto Rico\",\"Saint Lucia\",\"United States\",\"United States Virgin Islands\"],\"reversescale\":true,\"text\":[\"Belize\",\"Canada\",\"Costa Rica\",\"Cuba\",\"Dominica\",\"Dominican Republic\",\"Greenland\",\"Grenada\",\"Guatemala\",\"Haiti\",\"Honduras\",\"Jamaica\",\"Mexico\",\"Nicaragua\",\"Panama\",\"Puerto Rico\",\"Saint Lucia\",\"United States\",\"United States Virgin Islands\"],\"z\":[2.838667,3.988792,2.904788,3.319131,2.629649,2.978523,6.233635,2.770066,3.216025,2.957782,2.752301,2.592385,2.788807,2.854084,2.679025,2.726108,2.839268,4.83561,2.925182],\"type\":\"choropleth\"}],                        {\"geo\":{\"bgcolor\":\"grey\",\"projection\":{\"type\":\"natural earth1\"},\"scope\":\"north america\",\"showframe\":true},\"template\":{\"data\":{\"barpolar\":[{\"marker\":{\"line\":{\"color\":\"#E5ECF6\",\"width\":0.5},\"pattern\":{\"fillmode\":\"overlay\",\"size\":10,\"solidity\":0.2}},\"type\":\"barpolar\"}],\"bar\":[{\"error_x\":{\"color\":\"#2a3f5f\"},\"error_y\":{\"color\":\"#2a3f5f\"},\"marker\":{\"line\":{\"color\":\"#E5ECF6\",\"width\":0.5},\"pattern\":{\"fillmode\":\"overlay\",\"size\":10,\"solidity\":0.2}},\"type\":\"bar\"}],\"carpet\":[{\"aaxis\":{\"endlinecolor\":\"#2a3f5f\",\"gridcolor\":\"white\",\"linecolor\":\"white\",\"minorgridcolor\":\"white\",\"startlinecolor\":\"#2a3f5f\"},\"baxis\":{\"endlinecolor\":\"#2a3f5f\",\"gridcolor\":\"white\",\"linecolor\":\"white\",\"minorgridcolor\":\"white\",\"startlinecolor\":\"#2a3f5f\"},\"type\":\"carpet\"}],\"choropleth\":[{\"colorbar\":{\"outlinewidth\":0,\"ticks\":\"\"},\"type\":\"choropleth\"}],\"contourcarpet\":[{\"colorbar\":{\"outlinewidth\":0,\"ticks\":\"\"},\"type\":\"contourcarpet\"}],\"contour\":[{\"colorbar\":{\"outlinewidth\":0,\"ticks\":\"\"},\"colorscale\":[[0.0,\"#0d0887\"],[0.1111111111111111,\"#46039f\"],[0.2222222222222222,\"#7201a8\"],[0.3333333333333333,\"#9c179e\"],[0.4444444444444444,\"#bd3786\"],[0.5555555555555556,\"#d8576b\"],[0.6666666666666666,\"#ed7953\"],[0.7777777777777778,\"#fb9f3a\"],[0.8888888888888888,\"#fdca26\"],[1.0,\"#f0f921\"]],\"type\":\"contour\"}],\"heatmapgl\":[{\"colorbar\":{\"outlinewidth\":0,\"ticks\":\"\"},\"colorscale\":[[0.0,\"#0d0887\"],[0.1111111111111111,\"#46039f\"],[0.2222222222222222,\"#7201a8\"],[0.3333333333333333,\"#9c179e\"],[0.4444444444444444,\"#bd3786\"],[0.5555555555555556,\"#d8576b\"],[0.6666666666666666,\"#ed7953\"],[0.7777777777777778,\"#fb9f3a\"],[0.8888888888888888,\"#fdca26\"],[1.0,\"#f0f921\"]],\"type\":\"heatmapgl\"}],\"heatmap\":[{\"colorbar\":{\"outlinewidth\":0,\"ticks\":\"\"},\"colorscale\":[[0.0,\"#0d0887\"],[0.1111111111111111,\"#46039f\"],[0.2222222222222222,\"#7201a8\"],[0.3333333333333333,\"#9c179e\"],[0.4444444444444444,\"#bd3786\"],[0.5555555555555556,\"#d8576b\"],[0.6666666666666666,\"#ed7953\"],[0.7777777777777778,\"#fb9f3a\"],[0.8888888888888888,\"#fdca26\"],[1.0,\"#f0f921\"]],\"type\":\"heatmap\"}],\"histogram2dcontour\":[{\"colorbar\":{\"outlinewidth\":0,\"ticks\":\"\"},\"colorscale\":[[0.0,\"#0d0887\"],[0.1111111111111111,\"#46039f\"],[0.2222222222222222,\"#7201a8\"],[0.3333333333333333,\"#9c179e\"],[0.4444444444444444,\"#bd3786\"],[0.5555555555555556,\"#d8576b\"],[0.6666666666666666,\"#ed7953\"],[0.7777777777777778,\"#fb9f3a\"],[0.8888888888888888,\"#fdca26\"],[1.0,\"#f0f921\"]],\"type\":\"histogram2dcontour\"}],\"histogram2d\":[{\"colorbar\":{\"outlinewidth\":0,\"ticks\":\"\"},\"colorscale\":[[0.0,\"#0d0887\"],[0.1111111111111111,\"#46039f\"],[0.2222222222222222,\"#7201a8\"],[0.3333333333333333,\"#9c179e\"],[0.4444444444444444,\"#bd3786\"],[0.5555555555555556,\"#d8576b\"],[0.6666666666666666,\"#ed7953\"],[0.7777777777777778,\"#fb9f3a\"],[0.8888888888888888,\"#fdca26\"],[1.0,\"#f0f921\"]],\"type\":\"histogram2d\"}],\"histogram\":[{\"marker\":{\"pattern\":{\"fillmode\":\"overlay\",\"size\":10,\"solidity\":0.2}},\"type\":\"histogram\"}],\"mesh3d\":[{\"colorbar\":{\"outlinewidth\":0,\"ticks\":\"\"},\"type\":\"mesh3d\"}],\"parcoords\":[{\"line\":{\"colorbar\":{\"outlinewidth\":0,\"ticks\":\"\"}},\"type\":\"parcoords\"}],\"pie\":[{\"automargin\":true,\"type\":\"pie\"}],\"scatter3d\":[{\"line\":{\"colorbar\":{\"outlinewidth\":0,\"ticks\":\"\"}},\"marker\":{\"colorbar\":{\"outlinewidth\":0,\"ticks\":\"\"}},\"type\":\"scatter3d\"}],\"scattercarpet\":[{\"marker\":{\"colorbar\":{\"outlinewidth\":0,\"ticks\":\"\"}},\"type\":\"scattercarpet\"}],\"scattergeo\":[{\"marker\":{\"colorbar\":{\"outlinewidth\":0,\"ticks\":\"\"}},\"type\":\"scattergeo\"}],\"scattergl\":[{\"marker\":{\"colorbar\":{\"outlinewidth\":0,\"ticks\":\"\"}},\"type\":\"scattergl\"}],\"scattermapbox\":[{\"marker\":{\"colorbar\":{\"outlinewidth\":0,\"ticks\":\"\"}},\"type\":\"scattermapbox\"}],\"scatterpolargl\":[{\"marker\":{\"colorbar\":{\"outlinewidth\":0,\"ticks\":\"\"}},\"type\":\"scatterpolargl\"}],\"scatterpolar\":[{\"marker\":{\"colorbar\":{\"outlinewidth\":0,\"ticks\":\"\"}},\"type\":\"scatterpolar\"}],\"scatter\":[{\"fillpattern\":{\"fillmode\":\"overlay\",\"size\":10,\"solidity\":0.2},\"type\":\"scatter\"}],\"scatterternary\":[{\"marker\":{\"colorbar\":{\"outlinewidth\":0,\"ticks\":\"\"}},\"type\":\"scatterternary\"}],\"surface\":[{\"colorbar\":{\"outlinewidth\":0,\"ticks\":\"\"},\"colorscale\":[[0.0,\"#0d0887\"],[0.1111111111111111,\"#46039f\"],[0.2222222222222222,\"#7201a8\"],[0.3333333333333333,\"#9c179e\"],[0.4444444444444444,\"#bd3786\"],[0.5555555555555556,\"#d8576b\"],[0.6666666666666666,\"#ed7953\"],[0.7777777777777778,\"#fb9f3a\"],[0.8888888888888888,\"#fdca26\"],[1.0,\"#f0f921\"]],\"type\":\"surface\"}],\"table\":[{\"cells\":{\"fill\":{\"color\":\"#EBF0F8\"},\"line\":{\"color\":\"white\"}},\"header\":{\"fill\":{\"color\":\"#C8D4E3\"},\"line\":{\"color\":\"white\"}},\"type\":\"table\"}]},\"layout\":{\"annotationdefaults\":{\"arrowcolor\":\"#2a3f5f\",\"arrowhead\":0,\"arrowwidth\":1},\"autotypenumbers\":\"strict\",\"coloraxis\":{\"colorbar\":{\"outlinewidth\":0,\"ticks\":\"\"}},\"colorscale\":{\"diverging\":[[0,\"#8e0152\"],[0.1,\"#c51b7d\"],[0.2,\"#de77ae\"],[0.3,\"#f1b6da\"],[0.4,\"#fde0ef\"],[0.5,\"#f7f7f7\"],[0.6,\"#e6f5d0\"],[0.7,\"#b8e186\"],[0.8,\"#7fbc41\"],[0.9,\"#4d9221\"],[1,\"#276419\"]],\"sequential\":[[0.0,\"#0d0887\"],[0.1111111111111111,\"#46039f\"],[0.2222222222222222,\"#7201a8\"],[0.3333333333333333,\"#9c179e\"],[0.4444444444444444,\"#bd3786\"],[0.5555555555555556,\"#d8576b\"],[0.6666666666666666,\"#ed7953\"],[0.7777777777777778,\"#fb9f3a\"],[0.8888888888888888,\"#fdca26\"],[1.0,\"#f0f921\"]],\"sequentialminus\":[[0.0,\"#0d0887\"],[0.1111111111111111,\"#46039f\"],[0.2222222222222222,\"#7201a8\"],[0.3333333333333333,\"#9c179e\"],[0.4444444444444444,\"#bd3786\"],[0.5555555555555556,\"#d8576b\"],[0.6666666666666666,\"#ed7953\"],[0.7777777777777778,\"#fb9f3a\"],[0.8888888888888888,\"#fdca26\"],[1.0,\"#f0f921\"]]},\"colorway\":[\"#636efa\",\"#EF553B\",\"#00cc96\",\"#ab63fa\",\"#FFA15A\",\"#19d3f3\",\"#FF6692\",\"#B6E880\",\"#FF97FF\",\"#FECB52\"],\"font\":{\"color\":\"#2a3f5f\"},\"geo\":{\"bgcolor\":\"white\",\"lakecolor\":\"white\",\"landcolor\":\"#E5ECF6\",\"showlakes\":true,\"showland\":true,\"subunitcolor\":\"white\"},\"hoverlabel\":{\"align\":\"left\"},\"hovermode\":\"closest\",\"mapbox\":{\"style\":\"light\"},\"paper_bgcolor\":\"white\",\"plot_bgcolor\":\"#E5ECF6\",\"polar\":{\"angularaxis\":{\"gridcolor\":\"white\",\"linecolor\":\"white\",\"ticks\":\"\"},\"bgcolor\":\"#E5ECF6\",\"radialaxis\":{\"gridcolor\":\"white\",\"linecolor\":\"white\",\"ticks\":\"\"}},\"scene\":{\"xaxis\":{\"backgroundcolor\":\"#E5ECF6\",\"gridcolor\":\"white\",\"gridwidth\":2,\"linecolor\":\"white\",\"showbackground\":true,\"ticks\":\"\",\"zerolinecolor\":\"white\"},\"yaxis\":{\"backgroundcolor\":\"#E5ECF6\",\"gridcolor\":\"white\",\"gridwidth\":2,\"linecolor\":\"white\",\"showbackground\":true,\"ticks\":\"\",\"zerolinecolor\":\"white\"},\"zaxis\":{\"backgroundcolor\":\"#E5ECF6\",\"gridcolor\":\"white\",\"gridwidth\":2,\"linecolor\":\"white\",\"showbackground\":true,\"ticks\":\"\",\"zerolinecolor\":\"white\"}},\"shapedefaults\":{\"line\":{\"color\":\"#2a3f5f\"}},\"ternary\":{\"aaxis\":{\"gridcolor\":\"white\",\"linecolor\":\"white\",\"ticks\":\"\"},\"baxis\":{\"gridcolor\":\"white\",\"linecolor\":\"white\",\"ticks\":\"\"},\"bgcolor\":\"#E5ECF6\",\"caxis\":{\"gridcolor\":\"white\",\"linecolor\":\"white\",\"ticks\":\"\"}},\"title\":{\"x\":0.05},\"xaxis\":{\"automargin\":true,\"gridcolor\":\"white\",\"linecolor\":\"white\",\"ticks\":\"\",\"title\":{\"standoff\":15},\"zerolinecolor\":\"white\",\"zerolinewidth\":2},\"yaxis\":{\"automargin\":true,\"gridcolor\":\"white\",\"linecolor\":\"white\",\"ticks\":\"\",\"title\":{\"standoff\":15},\"zerolinecolor\":\"white\",\"zerolinewidth\":2}}},\"title\":{\"text\":\"Prevalence of Depressive Disorder in North America in 2017\"}},                        {\"responsive\": true}                    ).then(function(){\n",
       "                            \n",
       "var gd = document.getElementById('41b4f07a-1006-464d-b3d1-10066c3ea04c');\n",
       "var x = new MutationObserver(function (mutations, observer) {{\n",
       "        var display = window.getComputedStyle(gd).display;\n",
       "        if (!display || display === 'none') {{\n",
       "            console.log([gd, 'removed!']);\n",
       "            Plotly.purge(gd);\n",
       "            observer.disconnect();\n",
       "        }}\n",
       "}});\n",
       "\n",
       "// Listen for the removal of the full notebook cells\n",
       "var notebookContainer = gd.closest('#notebook-container');\n",
       "if (notebookContainer) {{\n",
       "    x.observe(notebookContainer, {childList: true});\n",
       "}}\n",
       "\n",
       "// Listen for the clearing of the current output cell\n",
       "var outputEl = gd.closest('.output');\n",
       "if (outputEl) {{\n",
       "    x.observe(outputEl, {childList: true});\n",
       "}}\n",
       "\n",
       "                        })                };                });            </script>        </div>"
      ]
     },
     "metadata": {},
     "output_type": "display_data"
    }
   ],
   "source": [
    "go.Figure(data = [dep_data],layout = dep_layout) \n",
    "choromap = go.Figure(data = [dep_data],layout = dep_layout) \n",
    "iplot(choromap)"
   ]
  },
  {
   "cell_type": "markdown",
   "metadata": {},
   "source": []
  }
 ],
 "metadata": {
  "kernelspec": {
   "display_name": "Python 3",
   "language": "python",
   "name": "python3"
  },
  "language_info": {
   "codemirror_mode": {
    "name": "ipython",
    "version": 3
   },
   "file_extension": ".py",
   "mimetype": "text/x-python",
   "name": "python",
   "nbconvert_exporter": "python",
   "pygments_lexer": "ipython3",
   "version": "3.11.4"
  },
  "orig_nbformat": 4
 },
 "nbformat": 4,
 "nbformat_minor": 2
}
