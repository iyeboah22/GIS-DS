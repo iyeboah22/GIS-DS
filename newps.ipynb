{
  "cells": [
    {
      "cell_type": "markdown",
      "metadata": {
        "id": "view-in-github",
        "colab_type": "text"
      },
      "source": [
        "<a href=\"https://colab.research.google.com/github/iyeboah22/GIS-DS/blob/main/newps.ipynb\" target=\"_parent\"><img src=\"https://colab.research.google.com/assets/colab-badge.svg\" alt=\"Open In Colab\"/></a>"
      ]
    },
    {
      "cell_type": "code",
      "execution_count": 1,
      "metadata": {
        "id": "vJI0pG_1yJmj"
      },
      "outputs": [],
      "source": [
        "#import libraries\n",
        "import os, zipfile\n",
        "import matplotlib.pyplot as plt\n",
        "import pandas as pd\n",
        "import geopandas as gpd\n",
        "\n",
        "from IPython.core.interactiveshell import InteractiveShell\n",
        "InteractiveShell.ast_node_interactivity = \"all\"\n",
        "\n",
        "from google.colab import files\n",
        "\n",
        "from google.colab import data_table\n",
        "data_table.enable_dataframe_formatter()\n",
        "\n",
        "!pip install mapclassify\n",
        "import mapclassify\n",
        "\n",
        "import re, json, requests\n",
        "import plotly.express as px\n",
        "from urllib.request import urlopen\n",
        "import json"
      ]
    },
    {
      "cell_type": "code",
      "source": [
        "! wget -q -O nyc1.zip https://github.com/iyeboah22/GIS-DS/raw/main/CHS_2009_DOHMH_2010B.zip\n",
        "\n",
        "zip_ref = zipfile.ZipFile('nyc1.zip', 'r');\n",
        "zip_ref.extractall();\n",
        "zip_ref.close();\n",
        "\n",
        "nyc_boro1 = gpd.read_file('CHS_2009_DOHMH_2010B/CHS_2009_DOHMH_2010B.shp')"
      ],
      "metadata": {
        "id": "3mz7UVylunHx"
      },
      "execution_count": null,
      "outputs": []
    },
    {
      "cell_type": "code",
      "source": [
        "nyc_boro1 = nyc_boro1[['FIRST_BORO', 'SHAPE_Leng', 'SHAPE_Area', 'geometry']]"
      ],
      "metadata": {
        "id": "Zq-oYFxrj38x"
      },
      "execution_count": 48,
      "outputs": []
    },
    {
      "cell_type": "code",
      "source": [
        "nyc_boro1.rename(columns = {'FIRST_BORO':'Borough'}, inplace = True)\n",
        "nyc_boro1.info()"
      ],
      "metadata": {
        "colab": {
          "base_uri": "https://localhost:8080/"
        },
        "id": "EToqczvXpglr",
        "outputId": "8f5282f4-c6e2-4ad0-f264-6c680a3e969e"
      },
      "execution_count": 49,
      "outputs": [
        {
          "output_type": "stream",
          "name": "stdout",
          "text": [
            "<class 'geopandas.geodataframe.GeoDataFrame'>\n",
            "RangeIndex: 35 entries, 0 to 34\n",
            "Data columns (total 4 columns):\n",
            " #   Column      Non-Null Count  Dtype   \n",
            "---  ------      --------------  -----   \n",
            " 0   Borough     35 non-null     object  \n",
            " 1   SHAPE_Leng  35 non-null     float64 \n",
            " 2   SHAPE_Area  35 non-null     float64 \n",
            " 3   geometry    35 non-null     geometry\n",
            "dtypes: float64(2), geometry(1), object(1)\n",
            "memory usage: 1.2+ KB\n"
          ]
        }
      ]
    },
    {
      "cell_type": "code",
      "source": [
        "nyc_boro1.plot()"
      ],
      "metadata": {
        "id": "ol64-_K8kBXK"
      },
      "execution_count": null,
      "outputs": []
    },
    {
      "cell_type": "code",
      "source": [
        "! wget -q -O NYC_Population.csv https://github.com/iyeboah22/GIS-DS/raw/main/NYC_Population.csv\n",
        "nyc_data = pd.read_csv('NYC_Population.csv')"
      ],
      "metadata": {
        "id": "zAfR39E5kVrY"
      },
      "execution_count": 76,
      "outputs": []
    },
    {
      "cell_type": "code",
      "source": [
        "nyc_data = nyc_data[['Borough', '2020'] ]\n",
        "nyc_data = nyc_data.drop(0, axis='index')\n",
        "nyc_data.info()\n",
        "#filter data set to show only key columns..."
      ],
      "metadata": {
        "colab": {
          "base_uri": "https://localhost:8080/"
        },
        "id": "0TZ6aZMryVAA",
        "outputId": "629d8ac1-c024-4ced-d2f1-5a816cd72110"
      },
      "execution_count": 77,
      "outputs": [
        {
          "output_type": "stream",
          "name": "stdout",
          "text": [
            "<class 'pandas.core.frame.DataFrame'>\n",
            "RangeIndex: 5 entries, 1 to 5\n",
            "Data columns (total 2 columns):\n",
            " #   Column   Non-Null Count  Dtype \n",
            "---  ------   --------------  ----- \n",
            " 0   Borough  5 non-null      object\n",
            " 1   2020     5 non-null      int64 \n",
            "dtypes: int64(1), object(1)\n",
            "memory usage: 212.0+ bytes\n"
          ]
        }
      ]
    },
    {
      "cell_type": "code",
      "source": [
        "nyc_pop = nyc_boro1.merge(nyc_data, on='Borough',how='outer',indicator=False)\n",
        "nyc_pop.head(2)\n",
        "#why is 2020 coming out as NaN ive tried different ways to merge but its still coming out as NaN\n"
      ],
      "metadata": {
        "id": "58KudxRbw7dG"
      },
      "execution_count": null,
      "outputs": []
    },
    {
      "cell_type": "code",
      "source": [
        "fig, ax = plt.subplots(1, figsize=(6,10))\n",
        "nyc_pop.plot(ax=ax,column='2020',legend=True,cmap='YlOrRd',scheme='natural_breaks',k=5,\n",
        "         edgecolor='grey',linewidth=1,legend_kwds= {\"fmt\": \"{:,.0f}\",\n",
        "        'loc':'lower left','title_fontsize':'medium','fontsize':'small','markerscale':1.4}) #\n",
        "#leg1 = ax.get_legend()\n",
        "#leg1.set_title('''Population Density\n",
        "#2010 (pers/sq mi)''')\n",
        "ax.title.set_text(\"World Map by Countries\")\n",
        "ax.set_xticks([]) #kills xticks\n",
        "ax.set_yticks([]) #kills xticks\n",
        "#plt.savefig('fig.pdf',bbox_inches='tight') #,pad_inches=0.1, dpi=200, transparent=True #eps, jpeg, jpg, pdf, pgf, png, ps, raw, rgba, svg, svgz, tif, tiff\n",
        "#files.download('fig.pdf') #note can also right click fig and save image as"
      ],
      "metadata": {
        "colab": {
          "base_uri": "https://localhost:8080/",
          "height": 541
        },
        "id": "taP52UU21VlL",
        "outputId": "24f5d8e1-3a43-4fc7-efe0-fe52fa5ac3f5"
      },
      "execution_count": 44,
      "outputs": [
        {
          "output_type": "execute_result",
          "data": {
            "text/plain": [
              "<Axes: >"
            ]
          },
          "metadata": {},
          "execution_count": 44
        },
        {
          "output_type": "execute_result",
          "data": {
            "text/plain": [
              "[]"
            ]
          },
          "metadata": {},
          "execution_count": 44
        },
        {
          "output_type": "execute_result",
          "data": {
            "text/plain": [
              "[]"
            ]
          },
          "metadata": {},
          "execution_count": 44
        },
        {
          "output_type": "display_data",
          "data": {
            "text/plain": [
              "<Figure size 600x1000 with 1 Axes>"
            ],
            "image/png": "[encoded data removed]"
          },
          "metadata": {}
        }
      ]
    },
    {
      "cell_type": "code",
      "source": [
        "\n",
        "! wget -q -O Demographic_Borough.csv https://github.com/iyeboah22/GIS-DS/raw/main/20-21_Demographic_Borough.csv\n",
        "nyc_demo = pd.read_csv('Demographic_Borough.csv')"
      ],
      "metadata": {
        "id": "k6QGs3igjWLo"
      },
      "execution_count": 8,
      "outputs": []
    },
    {
      "cell_type": "code",
      "source": [
        "nyc_demo.head()"
      ],
      "metadata": {
        "id": "wyq_ZnJjn9VU"
      },
      "execution_count": null,
      "outputs": []
    },
    {
      "cell_type": "code",
      "source": [
        "country_mh = mh_data.merge(countries_coord, on='name',how='outer',indicator=True)\n",
        "mh_data = mh_data[mh_data['year']=='2017']"
      ],
      "metadata": {
        "id": "veni7n6rn_TT"
      },
      "execution_count": null,
      "outputs": []
    }
  ],
  "metadata": {
    "colab": {
      "provenance": [],
      "authorship_tag": "ABX9TyP/tjOzm0XOh6UephHJ3t2q",
      "include_colab_link": true
    },
    "kernelspec": {
      "display_name": "Python 3",
      "name": "python3"
    },
    "language_info": {
      "name": "python"
    }
  },
  "nbformat": 4,
  "nbformat_minor": 0
}